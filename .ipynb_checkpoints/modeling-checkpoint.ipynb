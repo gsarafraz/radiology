{
 "cells": [
  {
   "cell_type": "code",
   "execution_count": null,
   "metadata": {},
   "outputs": [],
   "source": [
    "from preprocessing.Preprocessing import Preprocessing\n",
    "import pandas as pd\n",
    "import traceback\n",
    "import sys\n",
    "\n",
    "data_path = '/Users/User/Desktop/radiology/data/'\n",
    "preprocessing = Preprocessing(data_folder = data_path)\n",
    "data =  pd.read_csv(data_path + 'Radiology.csv')\n",
    "data['cleaned_report'] = data['توضیحات پزشک'].apply(lambda x: preprocessing.cleaner(x))\n",
    "data['cleaned_report'] = data['cleaned_report'].apply(lambda x: preprocessing.complete_normalization(x))\n",
    "data['tokenized_report'] = data['cleaned_report'].apply(lambda x: preprocessing.sentence_tokenizer(x))\n",
    "data.to_excel(data_path + 'cleaned_tokenized_report.xlsx')"
   ]
  },
  {
   "cell_type": "code",
   "execution_count": 9,
   "metadata": {},
   "outputs": [],
   "source": [
    "persian_diseases = list(pd.read_csv(data_path + 'persian_terms.csv')['Term'])\n",
    "english_diseases = ['fx','Avulsion fracture', 'Chronic Lymphocytic Thyroiditis', 'clt', 'djd', 'fracture', 'intertrochanteric fracture', 'osgood Schlatter', 'calcification', 'adenoma']\n",
    "diseases = persian_diseases + english_diseases\n",
    "body_parts = list(pd.read_csv(data_path + 'body_parts.csv')['Term'])"
   ]
  },
  {
   "cell_type": "code",
   "execution_count": null,
   "metadata": {},
   "outputs": [],
   "source": [
    "diseases = list(set([preprocessing.complete_normalization(x) for x in diseases]))\n",
    "body_parts = list(set([preprocessing.complete_normalization(x) for x in body_parts]))"
   ]
  },
  {
   "cell_type": "code",
   "execution_count": 20,
   "metadata": {},
   "outputs": [],
   "source": [
    "sentences = pd.read_excel(data_path + 'unique_sentences.xlsx')\n",
    "\n",
    "def find_body_parts_len(sent):\n",
    "    sent = set(sent.split())\n",
    "    return len(sent.intersection(set(body_parts)))\n",
    "\n",
    "def find_body_parts(sent):\n",
    "    sent = set(sent.split())\n",
    "    return sent.intersection(set(body_parts))\n",
    "\n",
    "sentences['num_body_parts'] = sentences['sentence'].apply(lambda x:find_body_parts_len(x))\n",
    "sentences['body_parts'] = sentences['sentence'].apply(lambda x:find_body_parts(x))"
   ]
  },
  {
   "cell_type": "code",
   "execution_count": 26,
   "metadata": {},
   "outputs": [
    {
     "data": {
      "text/html": [
       "<div>\n",
       "<style scoped>\n",
       "    .dataframe tbody tr th:only-of-type {\n",
       "        vertical-align: middle;\n",
       "    }\n",
       "\n",
       "    .dataframe tbody tr th {\n",
       "        vertical-align: top;\n",
       "    }\n",
       "\n",
       "    .dataframe thead th {\n",
       "        text-align: right;\n",
       "    }\n",
       "</style>\n",
       "<table border=\"1\" class=\"dataframe\">\n",
       "  <thead>\n",
       "    <tr style=\"text-align: right;\">\n",
       "      <th></th>\n",
       "      <th>توضیحات پزشک</th>\n",
       "      <th>cleaned_report</th>\n",
       "      <th>tokenized_report</th>\n",
       "    </tr>\n",
       "  </thead>\n",
       "  <tbody>\n",
       "    <tr>\n",
       "      <th>0</th>\n",
       "      <td>گزارش رادیولوژی \u0007     سند : FO-MR-78...</td>\n",
       "      <td>قفسه صدری دیگر 1 فیلم رادیوگرافی ریه: اندازه ق...</td>\n",
       "      <td>[قفسه صدری دیگر 1 فیلم رادیوگرافی ریه tag  ., ...</td>\n",
       "    </tr>\n",
       "    <tr>\n",
       "      <th>1</th>\n",
       "      <td>گزارش رادیولوژی \u0007     سند : FO-MR-78...</td>\n",
       "      <td>ستون فقرات گردن 2 جهت رخ نیمرخ رادیوگرافی دنده...</td>\n",
       "      <td>[ستون فقرات گردن 2 جهت رخ نیمرخ رادیوگرافی دند...</td>\n",
       "    </tr>\n",
       "    <tr>\n",
       "      <th>2</th>\n",
       "      <td>گزارش رادیولوژی \u0007     سند : FO-MR-78...</td>\n",
       "      <td>استخوانهای مخصوص بینی نمای 1 فیلم رادیوگرافی ب...</td>\n",
       "      <td>[استخوانهای مخصوص بینی نمای 1 فیلم رادیوگرافی ...</td>\n",
       "    </tr>\n",
       "    <tr>\n",
       "      <th>3</th>\n",
       "      <td>گزارش رادیولوژی \u0007     سند : FO-MR-78...</td>\n",
       "      <td>پا 2 جهت رادیوگرافی: مفاصل استخوانهای project ...</td>\n",
       "      <td>[پا 2 جهت رادیوگرافی tag  ., مفاصل استخوانهای ...</td>\n",
       "    </tr>\n",
       "    <tr>\n",
       "      <th>4</th>\n",
       "      <td>گزارش رادیولوژی \u0007     سند : FO-MR-78...</td>\n",
       "      <td>استخوانهای دست 1 جهت رادیوگرافی: مفاصل استخوان...</td>\n",
       "      <td>[استخوانهای دست 1 جهت رادیوگرافی tag  ., مفاصل...</td>\n",
       "    </tr>\n",
       "    <tr>\n",
       "      <th>...</th>\n",
       "      <td>...</td>\n",
       "      <td>...</td>\n",
       "      <td>...</td>\n",
       "    </tr>\n",
       "    <tr>\n",
       "      <th>995</th>\n",
       "      <td>گزارش رادیولوژی \u0007     سند : FO-MR-78...</td>\n",
       "      <td>شانه 1 جهت استخوان اسکاپولا، کلاویکل، اکرومیوک...</td>\n",
       "      <td>[شانه 1 جهت استخوان اسکاپولا، کلاویکل، اکرومیو...</td>\n",
       "    </tr>\n",
       "    <tr>\n",
       "      <th>996</th>\n",
       "      <td>گزارش رادیولوژی \u0007     سند : FO-MR-78...</td>\n",
       "      <td>قفسه صدری دیگر 1 فیلم رادیوگرافی لگن خاصره هرف...</td>\n",
       "      <td>[قفسه صدری دیگر 1 فیلم رادیوگرافی لگن خاصره هر...</td>\n",
       "    </tr>\n",
       "    <tr>\n",
       "      <th>997</th>\n",
       "      <td>گزارش رادیولوژی \u0007     سند : FO-MR-78...</td>\n",
       "      <td>قفسه صدری دیگر 1 فیلم رادیوگرافی پا 2 اکسپوز 1...</td>\n",
       "      <td>[قفسه صدری دیگر 1 فیلم رادیوگرافی پا 2 اکسپوز ...</td>\n",
       "    </tr>\n",
       "    <tr>\n",
       "      <th>998</th>\n",
       "      <td>گزارش رادیولوژی \u0007     سند : FO-MR-78...</td>\n",
       "      <td>لگن خاصره هرفیلم رادیوگرافی ران 2 اکسپوز 1 فیل...</td>\n",
       "      <td>[لگن خاصره هرفیلم رادیوگرافی ران 2 اکسپوز 1 فی...</td>\n",
       "    </tr>\n",
       "    <tr>\n",
       "      <th>999</th>\n",
       "      <td>گزارش رادیولوژی \u0007     سند : FO-MR-78...</td>\n",
       "      <td>دست 2 جهت رادیوگرافی استخوانهای دست 2 جهت رادی...</td>\n",
       "      <td>[دست 2 جهت رادیوگرافی استخوانهای دست 2 جهت راد...</td>\n",
       "    </tr>\n",
       "  </tbody>\n",
       "</table>\n",
       "<p>1000 rows × 3 columns</p>\n",
       "</div>"
      ],
      "text/plain": [
       "                                          توضیحات پزشک  \\\n",
       "0              گزارش رادیولوژی \u0007     سند : FO-MR-78...   \n",
       "1              گزارش رادیولوژی \u0007     سند : FO-MR-78...   \n",
       "2              گزارش رادیولوژی \u0007     سند : FO-MR-78...   \n",
       "3              گزارش رادیولوژی \u0007     سند : FO-MR-78...   \n",
       "4              گزارش رادیولوژی \u0007     سند : FO-MR-78...   \n",
       "..                                                 ...   \n",
       "995            گزارش رادیولوژی \u0007     سند : FO-MR-78...   \n",
       "996            گزارش رادیولوژی \u0007     سند : FO-MR-78...   \n",
       "997            گزارش رادیولوژی \u0007     سند : FO-MR-78...   \n",
       "998            گزارش رادیولوژی \u0007     سند : FO-MR-78...   \n",
       "999            گزارش رادیولوژی \u0007     سند : FO-MR-78...   \n",
       "\n",
       "                                        cleaned_report  \\\n",
       "0    قفسه صدری دیگر 1 فیلم رادیوگرافی ریه: اندازه ق...   \n",
       "1    ستون فقرات گردن 2 جهت رخ نیمرخ رادیوگرافی دنده...   \n",
       "2    استخوانهای مخصوص بینی نمای 1 فیلم رادیوگرافی ب...   \n",
       "3    پا 2 جهت رادیوگرافی: مفاصل استخوانهای project ...   \n",
       "4    استخوانهای دست 1 جهت رادیوگرافی: مفاصل استخوان...   \n",
       "..                                                 ...   \n",
       "995  شانه 1 جهت استخوان اسکاپولا، کلاویکل، اکرومیوک...   \n",
       "996  قفسه صدری دیگر 1 فیلم رادیوگرافی لگن خاصره هرف...   \n",
       "997  قفسه صدری دیگر 1 فیلم رادیوگرافی پا 2 اکسپوز 1...   \n",
       "998  لگن خاصره هرفیلم رادیوگرافی ران 2 اکسپوز 1 فیل...   \n",
       "999  دست 2 جهت رادیوگرافی استخوانهای دست 2 جهت رادی...   \n",
       "\n",
       "                                      tokenized_report  \n",
       "0    [قفسه صدری دیگر 1 فیلم رادیوگرافی ریه tag  ., ...  \n",
       "1    [ستون فقرات گردن 2 جهت رخ نیمرخ رادیوگرافی دند...  \n",
       "2    [استخوانهای مخصوص بینی نمای 1 فیلم رادیوگرافی ...  \n",
       "3    [پا 2 جهت رادیوگرافی tag  ., مفاصل استخوانهای ...  \n",
       "4    [استخوانهای دست 1 جهت رادیوگرافی tag  ., مفاصل...  \n",
       "..                                                 ...  \n",
       "995  [شانه 1 جهت استخوان اسکاپولا، کلاویکل، اکرومیو...  \n",
       "996  [قفسه صدری دیگر 1 فیلم رادیوگرافی لگن خاصره هر...  \n",
       "997  [قفسه صدری دیگر 1 فیلم رادیوگرافی پا 2 اکسپوز ...  \n",
       "998  [لگن خاصره هرفیلم رادیوگرافی ران 2 اکسپوز 1 فی...  \n",
       "999  [دست 2 جهت رادیوگرافی استخوانهای دست 2 جهت راد...  \n",
       "\n",
       "[1000 rows x 3 columns]"
      ]
     },
     "execution_count": 26,
     "metadata": {},
     "output_type": "execute_result"
    }
   ],
   "source": [
    "sentences[sentences['num_body_parts'] > 2]"
   ]
  },
  {
   "cell_type": "code",
   "execution_count": 42,
   "metadata": {},
   "outputs": [],
   "source": [
    "import numpy as np\n",
    "\n",
    "def bodypart_disease_alignment(sent):\n",
    "    print(sent)\n",
    "    result = []\n",
    "    sent = sent.split()\n",
    "    \n",
    "    shared_bodyparts = list(set(sent).intersection(body_parts))\n",
    "    index_bps = [sent.index(x) for x in shared_bodyparts]\n",
    "    shared_diseases  = list(set(sent).intersection(diseases))\n",
    "    print('shared_diseases', shared_diseases)\n",
    "    index_diseases = [sent.index(x) for x in shared_diseases]\n",
    "    print('index_diseases', index_diseases)\n",
    "    for index, d_index in enumerate(index_diseases):\n",
    "        \n",
    "        tmp_arr = np.abs(np.array(index_bps) - d_index)\n",
    "        bp_min_index = np.argmin(tmp_arr)\n",
    "        result.append({'disease':shared_diseases[index],'body_part':shared_bodyparts[bp_min_index]})\n",
    "        \n",
    "    return result\n",
    "\n",
    "    "
   ]
  },
  {
   "cell_type": "code",
   "execution_count": 43,
   "metadata": {},
   "outputs": [
    {
     "name": "stdout",
     "output_type": "stream",
     "text": [
      " FX میانی دیافیز تیبیا و فیبولای راست همراه با جابجایی Significant قطعات در FX فیبولا رویت شد \n",
      "shared_diseases ['جابجایی']\n",
      "index_diseases [9]\n"
     ]
    },
    {
     "data": {
      "text/plain": [
       "[{'disease': 'جابجایی', 'body_part': 'فیبولای'}]"
      ]
     },
     "execution_count": 43,
     "metadata": {},
     "output_type": "execute_result"
    }
   ],
   "source": [
    "bodypart_disease_alignment(sentences[sentences['num_body_parts'] > 2].iloc[1]['sentence'])"
   ]
  }
 ],
 "metadata": {
  "kernelspec": {
   "display_name": "Python 3",
   "language": "python",
   "name": "python3"
  },
  "language_info": {
   "codemirror_mode": {
    "name": "ipython",
    "version": 3
   },
   "file_extension": ".py",
   "mimetype": "text/x-python",
   "name": "python",
   "nbconvert_exporter": "python",
   "pygments_lexer": "ipython3",
   "version": "3.7.6"
  }
 },
 "nbformat": 4,
 "nbformat_minor": 4
}
