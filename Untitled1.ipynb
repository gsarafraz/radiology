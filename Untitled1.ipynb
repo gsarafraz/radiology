{
 "cells": [
  {
   "cell_type": "code",
   "execution_count": 40,
   "metadata": {},
   "outputs": [],
   "source": [
    "from tkinter import *\n",
    "import tkinter\n",
    "import customtkinter\n",
    "\n",
    "customtkinter.set_appearance_mode('dark')\n",
    "customtkinter.set_default_color_theme('green')\n",
    "root = customtkinter.CTk()\n",
    "root.title(\"خلاصه سازی گزارش رادیولوژی\")\n",
    "root.geometry('1000x500')\n",
    "\n",
    "button = customtkinter.CTkButton(master=root,\n",
    "                                 width=450,\n",
    "                                 height=50,\n",
    "                                 border_width=0.5,\n",
    "                                 corner_radius=10,\n",
    "                                 text=\"مشاهده‌ی خلاصه‌ی گزارش\")\n",
    "button.place(relx=0.75, rely=0.1, anchor=tkinter.CENTER)\n",
    "\n",
    "entry = customtkinter.CTkEntry(master=root,\n",
    "                               placeholder_text=\"گزارش را در این قسمت کپی کنید\",\n",
    "                               width=480,\n",
    "                               height=450,\n",
    "                               border_width=2,\n",
    "                               corner_radius=10)\n",
    "entry.place(relx=0.27, rely=0.5, anchor=tkinter.CENTER)\n",
    "\n",
    "\n",
    "text_var = tkinter.StringVar(value=\"CTkLabel\")\n",
    "\n",
    "label = customtkinter.CTkLabel(master=root,\n",
    "                               textvariable=text_var,\n",
    "                               width=450,\n",
    "                               height=380,\n",
    "                               fg_color=(\"white\", \"gray45\"),\n",
    "                               corner_radius=8)\n",
    "label.place(relx=0.75, rely=0.56, anchor=tkinter.CENTER)\n",
    "\n",
    "root.mainloop()"
   ]
  },
  {
   "cell_type": "code",
   "execution_count": null,
   "metadata": {},
   "outputs": [],
   "source": []
  }
 ],
 "metadata": {
  "kernelspec": {
   "display_name": "Python 3",
   "language": "python",
   "name": "python3"
  },
  "language_info": {
   "codemirror_mode": {
    "name": "ipython",
    "version": 3
   },
   "file_extension": ".py",
   "mimetype": "text/x-python",
   "name": "python",
   "nbconvert_exporter": "python",
   "pygments_lexer": "ipython3",
   "version": "3.7.6"
  }
 },
 "nbformat": 4,
 "nbformat_minor": 4
}
